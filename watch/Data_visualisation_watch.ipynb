{
 "cells": [
  {
   "attachments": {},
   "cell_type": "markdown",
   "metadata": {},
   "source": [
    "### Data Visualition  \n",
    "\n",
    "La data visualisation est un domaine très vaste de par les différentes manières de représenter la donnée. L'objectif est de trouver l'approche la plus optimale afin de mettre en évidence le résultat recherché.\n",
    "\n",
    "Pour cela, voici quelques exemples de visualisation de données :\n",
    "\n",
    "***"
   ]
  },
  {
   "attachments": {},
   "cell_type": "markdown",
   "metadata": {},
   "source": [
    "**Les tableaux** : Aussi simple est-il, un tableau peut être mis en place afin de visualiser des données. Il trouve son importance pour montrer des exemples simples sur un ensemble de données. Il devient cependant obsolète lorsqu'il y a trop de données, ou simplement quand on veut montrer une relation entre plusieurs caractéristiques."
   ]
  },
  {
   "attachments": {},
   "cell_type": "markdown",
   "metadata": {},
   "source": [
    "**Les graphiques** : Riches et variés, les graphiques permettent de faire ressortir les liens entre différentes données. Avec de nombreux graphiques au fonctions et objectifs différents, ils sont les principaux outils dans la visualisation de données."
   ]
  },
  {
   "attachments": {},
   "cell_type": "markdown",
   "metadata": {},
   "source": [
    "**L'infographie** : Mélange de données chiffrés, de petit graphiques, d'images et de données qualitatives, l'infographie est un excellent outil de synthèse. Il trouve sa force dans son accessibilité et sa simplicité, mais possède donc des limite pour partager un grand nombre d'observations variées."
   ]
  },
  {
   "attachments": {},
   "cell_type": "markdown",
   "metadata": {},
   "source": [
    "**La cartographie ou La frise chronologique** : Ces deux outils reposent sur le même principe, mettre en relation des données avec respectivement le lieux ou le temps. Très situationnels, ils sont cependant très efficaces dans ces situations précises.\n",
    "\n",
    "\n",
    "***"
   ]
  },
  {
   "attachments": {},
   "cell_type": "markdown",
   "metadata": {},
   "source": [
    "Les **graphiques** sont les moyens prédominant de représenter la données par leur nombre riches et variés. On pourra utiliser des histogrammes, des nuages de points, des heat maps ou encore des graphiques en radar pour ne citer qu'eux. L'objectif du Data scientist ou Data analyst est de trouver le graphique optimal pour la représentation de ses résultats.\n"
   ]
  }
 ],
 "metadata": {
  "language_info": {
   "name": "python"
  },
  "orig_nbformat": 4
 },
 "nbformat": 4,
 "nbformat_minor": 2
}
