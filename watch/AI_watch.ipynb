{
 "cells": [
  {
   "attachments": {},
   "cell_type": "markdown",
   "metadata": {},
   "source": [
    "### Veille sur l'IA\n",
    "\n",
    "Afin de mieux comprendre le monde des **data**, je réalise une veille stratégique sur les domaines suivants :\n",
    "\n",
    "Intelligence artificielle, Machine Learning, Une problématique de classification supervisé, classification non supervisée, Une problématique de classification non supervisée, L'analyse descriptive de données  \n",
    "\n",
    "\n",
    "***\n"
   ]
  },
  {
   "attachments": {},
   "cell_type": "markdown",
   "metadata": {},
   "source": [
    "**L'intelligence artificielle** : Sciences et ingiénierie de la fabrication et l'apprentissages d'algorithmes issues de calculs informatiques et mathématiques visant à imiter une manière de penser \"humaine\". "
   ]
  },
  {
   "attachments": {},
   "cell_type": "markdown",
   "metadata": {},
   "source": [
    "**Machine Learning** : Ensemble d'algorithmes mathématiques et informatiques qui répondent à des problématiques en autonomies sur un ensemble de données."
   ]
  },
  {
   "attachments": {},
   "cell_type": "markdown",
   "metadata": {},
   "source": [
    "**Une problématique de classification supervisée** : Une classification suppervisée est un rangement de données dans des catégories déjà présentes et définies. Une problématique de classification supervisée pourraît être le biais des catégories existantes ou même leurs freins."
   ]
  },
  {
   "attachments": {},
   "cell_type": "markdown",
   "metadata": {},
   "source": [
    "**classification non supervisée** : A l'inverse de la classification suppervisée, la classification non suppervisée est un rangement de données par groupe dans des catégories qui n'existent pas encore."
   ]
  },
  {
   "attachments": {},
   "cell_type": "markdown",
   "metadata": {},
   "source": [
    "**Une problématique de classification non supervisée** : Une problématique de classification non supervisée pourraît être le manque de fiabilité ou de véracité des groupes construits dans un ensemble."
   ]
  },
  {
   "attachments": {},
   "cell_type": "markdown",
   "metadata": {},
   "source": [
    "**Analyse descriptive de données** : L'anlyse descriptive de données est une synthèse d'un ensemble de données à l'aide d'algorithme et de visualisation pour mettre en évidences des résultats."
   ]
  },
  {
   "attachments": {},
   "cell_type": "markdown",
   "metadata": {},
   "source": [
    "### Exemple dans la santé\n",
    "\n",
    "Dans le secteur de la santé, le monde de l'intelligence artificielle pourra être utiles dans de nombreux domaines :\n",
    "\n",
    "- Dans une opération, une intelligence artificielle pourrait lire et interpréter des données *(cardiaques, sanguines, pulmonaires, etc...)*, même en faible quantité, pour aider les chirurgiens \n",
    "- Au cours d'un diagnostics, une intelligence artificielles pourrait interpreter de manière plus juste, à l'aide de bien plus de paramètres, des diagnostics chez un patient.\n",
    "- Dans un hopital, les intelligences artificielles pourrait veiller à l'organisation des patients, des employers et des visiteurs.\n",
    "\n",
    "Voilà 3 parmi les nombreux exemples de l'intelligence artificielle"
   ]
  }
 ],
 "metadata": {
  "language_info": {
   "name": "python"
  },
  "orig_nbformat": 4
 },
 "nbformat": 4,
 "nbformat_minor": 2
}
